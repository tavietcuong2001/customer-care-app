{
 "cells": [
  {
   "cell_type": "code",
   "execution_count": null,
   "id": "d2b5c1c9",
   "metadata": {},
   "outputs": [
    {
     "name": "stderr",
     "output_type": "stream",
     "text": [
      "/tmp/ipykernel_10574/2623609048.py:13: SAWarning: Unrecognized server version info '17.0.800.3'.  Some SQL Server features may not function properly.\n",
      "  issues_table = Table(\"Issues\", metadata, autoload_with=engine)\n"
     ]
    },
    {
     "name": "stdout",
     "output_type": "stream",
     "text": [
      "Kết nối thành công!\n",
      "id\n",
      "service_name\n",
      "description\n",
      "mcp_url\n"
     ]
    }
   ],
   "source": [
    "engine = create_engine(connection_string)\n",
    "from sqlalchemy import MetaData, Table\n",
    "\n",
    "metadata = MetaData()\n",
    "issues_table = Table(\"Issues\", metadata, autoload_with=engine)\n",
    "\n",
    "with engine.connect() as connection:\n",
    "    print(\"Kết nối thành công!\")\n",
    "    query = select(issues_table)\n",
    "    result = connection.execute(query)\n",
    "    for row in result:\n",
    "        print(row)\n",
    "    for column in issues_table.columns:\n",
    "        print(column.name)"
   ]
  },
  {
   "cell_type": "code",
   "execution_count": 16,
   "id": "2a1a8fdb",
   "metadata": {},
   "outputs": [],
   "source": [
    "# Define a function that the model can call to control smart lights\n",
    "set_light_values_declaration = {\n",
    "    \"name\": \"set_light_values\",\n",
    "    \"description\": \"Sets the brightness and color temperature of a light.\",\n",
    "    \"parameters\": {\n",
    "        \"type\": \"object\",\n",
    "        \"properties\": {\n",
    "            \"brightness\": {\n",
    "                \"type\": \"integer\",\n",
    "                \"description\": \"Light level from 0 to 100. Zero is off and 100 is full brightness\",\n",
    "            },\n",
    "            \"color_temp\": {\n",
    "                \"type\": \"string\",\n",
    "                \"enum\": [\"daylight\", \"cool\", \"warm\"],\n",
    "                \"description\": \"Color temperature of the light fixture, which can be `daylight`, `cool` or `warm`.\",\n",
    "            },\n",
    "        },\n",
    "        \"required\": [\"brightness\", \"color_temp\"],\n",
    "    },\n",
    "}\n",
    "\n",
    "# This is the actual function that would be called based on the model's suggestion\n",
    "def set_light_values(brightness: int, color_temp: str) -> dict[str, int | str]:\n",
    "    \"\"\"Set the brightness and color temperature of a room light. (mock API).\n",
    "\n",
    "    Args:\n",
    "        brightness: Light level from 0 to 100. Zero is off and 100 is full brightness\n",
    "        color_temp: Color temperature of the light fixture, which can be `daylight`, `cool` or `warm`.\n",
    "\n",
    "    Returns:\n",
    "        A dictionary containing the set brightness and color temperature.\n",
    "    \"\"\"\n",
    "    return {\"brightness\": brightness, \"colorTemperature\": color_temp}"
   ]
  },
  {
   "cell_type": "code",
   "execution_count": 64,
   "id": "402538ab",
   "metadata": {},
   "outputs": [],
   "source": [
    "import sys\n",
    "import os\n",
    "sys.path.append(os.path.abspath(os.path.join(os.getcwd(), '..')))\n",
    "\n",
    "from app.core.config import settings\n",
    "\n",
    "from google import genai\n",
    "from google.genai import types\n",
    "\n",
    "tools = types.Tool(function_declarations=[set_light_values_declaration])\n",
    "config = types.GenerateContentConfig(tools=[tools])\n",
    "\n",
    "client = genai.Client(api_key=settings.GEMINI_API_KEY)\n",
    "chat = client.chats.create(\n",
    "    model=\"gemini-2.5-flash\",\n",
    "    config=types.GenerateContentConfig(\n",
    "        system_instruction=\"Bạn là một trợ lý ảo thông minh, có thể giúp tôi điều khiển đèn thông minh trong nhà.\",\n",
    "        temperature=0.0,\n",
    "        tools=[tools],\n",
    "    ),\n",
    "    history=[\n",
    "        types.Content(role='user', parts=[{\"text\": \"Xin chào\"}]),\n",
    "        types.Content(role='model', parts=[{\"text\": \"Xin chào! Tôi có thể giúp gì cho bạn hôm nay?\"}])\n",
    "    ]\n",
    ")"
   ]
  },
  {
   "cell_type": "code",
   "execution_count": 65,
   "id": "e12ab003",
   "metadata": {},
   "outputs": [],
   "source": [
    "response = chat.send_message(\"Tôi muốn bật đèn phòng khách với độ sáng 80 và màu ban ngày.\")"
   ]
  },
  {
   "cell_type": "code",
   "execution_count": 71,
   "id": "80c0f88f",
   "metadata": {},
   "outputs": [
    {
     "data": {
      "text/plain": [
       "{'brightness': 80, 'color_temp': 'daylight'}"
      ]
     },
     "execution_count": 71,
     "metadata": {},
     "output_type": "execute_result"
    }
   ],
   "source": [
    "response.function_calls[0].args"
   ]
  },
  {
   "cell_type": "code",
   "execution_count": 67,
   "id": "ee4f8380",
   "metadata": {},
   "outputs": [
    {
     "name": "stderr",
     "output_type": "stream",
     "text": [
      "Warning: there are non-text parts in the response: ['function_call'], returning concatenated text result from text parts. Check the full candidates.content.parts accessor to get the full model response.\n"
     ]
    }
   ],
   "source": [
    "response.text"
   ]
  },
  {
   "cell_type": "code",
   "execution_count": 48,
   "id": "0f10729f",
   "metadata": {},
   "outputs": [
    {
     "name": "stdout",
     "output_type": "stream",
     "text": [
      "role - user: Xin chào\n",
      "role - model: Xin chào! Tôi có thể giúp gì cho bạn hôm nay?\n",
      "role - user: bạn làm ơn bật đèn sáng 100% và chuyển sang chế độ ánh sáng ban ngày\n",
      "role - model: None\n"
     ]
    }
   ],
   "source": [
    "for message in chat.get_history():\n",
    "    print(f'role - {message.role}',end=\": \")\n",
    "    print(message.parts[0].text)"
   ]
  },
  {
   "cell_type": "code",
   "execution_count": null,
   "id": "6f49098d",
   "metadata": {},
   "outputs": [
    {
     "name": "stdout",
     "output_type": "stream",
     "text": [
      "role\n",
      "content\n",
      "role\n",
      "content\n"
     ]
    }
   ],
   "source": [
    "chat_history = [{'role': 'user', 'content': 'Xin chào'},\n",
    "                {'role': 'model', 'content': 'Xin chào! Tôi có thể giúp gì cho bạn hôm nay?'}]\n",
    "\n",
    "history = []\n",
    "for message in chat_history:\n",
    "    "
   ]
  }
 ],
 "metadata": {
  "kernelspec": {
   "display_name": ".venv",
   "language": "python",
   "name": "python3"
  },
  "language_info": {
   "codemirror_mode": {
    "name": "ipython",
    "version": 3
   },
   "file_extension": ".py",
   "mimetype": "text/x-python",
   "name": "python",
   "nbconvert_exporter": "python",
   "pygments_lexer": "ipython3",
   "version": "3.12.3"
  }
 },
 "nbformat": 4,
 "nbformat_minor": 5
}
